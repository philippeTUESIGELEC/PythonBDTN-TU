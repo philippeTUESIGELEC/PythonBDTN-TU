{
 "cells": [
  {
   "cell_type": "markdown",
   "metadata": {},
   "source": [
    "#Tutoriel - Apprendre le Python en 10 minutes\n",
    "Note: Si vous souhaitez du developpement Python complet, mon entreprise, Stochastic technologies est disponible.\n",
    "    Ce tutoriel est disponible sous forme d'ebook. L'ebook contient les meilleures pratiques en Python.\n",
    "    Toutes les autres update sont disponibles pour ceux qui achètent le book."
   ]
  },
  {
   "cell_type": "markdown",
   "metadata": {},
   "source": [
    "Préliminaire : \n",
    "    Alors, vous voulez apprendre le language de programmation Python mais vous ne pouvez pas trouver un tutoriel concis et complet ?\n",
    "    Ce tutoriel vous apprendra Python en 10 minutes. Ce n'est pas vraiment un tutoriel du fait que c'est un mélange de tutoriel et de fiche, donc cela va uniquement vous montrer des concepts basiques pour commencer. \n",
    "    Evidemment, si vous voulez vraiment apprendre un language et programmer un moment avec. Je considererai que vous êtes déjà familier avec la programmation et que vous passerez les choses non spécifiques au language.\n",
    "    Les mots clés seront mis en évidence.\n",
    "    Par ailleurs, faites attention, certaines choses seront traduites et brièvement commentées du à la contrainte de temps du tutoriel.\n",
    "\n",
    "Propriétés:  \n",
    "    Le Python est un language à typage fort, (les types sont renforcés), dynamique, implicitement typé, sensible à la case et objet orienté(tout est objet).\n",
    "Recevoir de l'aide : L'aide sur Python est toujours disponible dans l'interpréteur. Si vous voulez savoir comment un objet fonctionne, tout ce que vous avez à faire est d'appeler \"aide(<objet>) ! Aussi, vous pouvez utiliser dir(). Qui vous montre tous les objets d'une méthode, <objet>.__doc__, qui vous montre la documentation."
   ]
  },
  {
   "cell_type": "code",
   "execution_count": 6,
   "metadata": {},
   "outputs": [
    {
     "name": "stdout",
     "output_type": "stream",
     "text": [
      "Help on int object:\n",
      "\n",
      "class int(object)\n",
      " |  int(x=0) -> integer\n",
      " |  int(x, base=10) -> integer\n",
      " |  \n",
      " |  Convert a number or string to an integer, or return 0 if no arguments\n",
      " |  are given.  If x is a number, return x.__int__().  For floating point\n",
      " |  numbers, this truncates towards zero.\n",
      " |  \n",
      " |  If x is not a number or if base is given, then x must be a string,\n",
      " |  bytes, or bytearray instance representing an integer literal in the\n",
      " |  given base.  The literal can be preceded by '+' or '-' and be surrounded\n",
      " |  by whitespace.  The base defaults to 10.  Valid bases are 0 and 2-36.\n",
      " |  Base 0 means to interpret the base from the string as an integer literal.\n",
      " |  >>> int('0b100', base=0)\n",
      " |  4\n",
      " |  \n",
      " |  Methods defined here:\n",
      " |  \n",
      " |  __abs__(self, /)\n",
      " |      abs(self)\n",
      " |  \n",
      " |  __add__(self, value, /)\n",
      " |      Return self+value.\n",
      " |  \n",
      " |  __and__(self, value, /)\n",
      " |      Return self&value.\n",
      " |  \n",
      " |  __bool__(self, /)\n",
      " |      self != 0\n",
      " |  \n",
      " |  __ceil__(...)\n",
      " |      Ceiling of an Integral returns itself.\n",
      " |  \n",
      " |  __divmod__(self, value, /)\n",
      " |      Return divmod(self, value).\n",
      " |  \n",
      " |  __eq__(self, value, /)\n",
      " |      Return self==value.\n",
      " |  \n",
      " |  __float__(self, /)\n",
      " |      float(self)\n",
      " |  \n",
      " |  __floor__(...)\n",
      " |      Flooring an Integral returns itself.\n",
      " |  \n",
      " |  __floordiv__(self, value, /)\n",
      " |      Return self//value.\n",
      " |  \n",
      " |  __format__(...)\n",
      " |      default object formatter\n",
      " |  \n",
      " |  __ge__(self, value, /)\n",
      " |      Return self>=value.\n",
      " |  \n",
      " |  __getattribute__(self, name, /)\n",
      " |      Return getattr(self, name).\n",
      " |  \n",
      " |  __getnewargs__(...)\n",
      " |  \n",
      " |  __gt__(self, value, /)\n",
      " |      Return self>value.\n",
      " |  \n",
      " |  __hash__(self, /)\n",
      " |      Return hash(self).\n",
      " |  \n",
      " |  __index__(self, /)\n",
      " |      Return self converted to an integer, if self is suitable for use as an index into a list.\n",
      " |  \n",
      " |  __int__(self, /)\n",
      " |      int(self)\n",
      " |  \n",
      " |  __invert__(self, /)\n",
      " |      ~self\n",
      " |  \n",
      " |  __le__(self, value, /)\n",
      " |      Return self<=value.\n",
      " |  \n",
      " |  __lshift__(self, value, /)\n",
      " |      Return self<<value.\n",
      " |  \n",
      " |  __lt__(self, value, /)\n",
      " |      Return self<value.\n",
      " |  \n",
      " |  __mod__(self, value, /)\n",
      " |      Return self%value.\n",
      " |  \n",
      " |  __mul__(self, value, /)\n",
      " |      Return self*value.\n",
      " |  \n",
      " |  __ne__(self, value, /)\n",
      " |      Return self!=value.\n",
      " |  \n",
      " |  __neg__(self, /)\n",
      " |      -self\n",
      " |  \n",
      " |  __new__(*args, **kwargs) from builtins.type\n",
      " |      Create and return a new object.  See help(type) for accurate signature.\n",
      " |  \n",
      " |  __or__(self, value, /)\n",
      " |      Return self|value.\n",
      " |  \n",
      " |  __pos__(self, /)\n",
      " |      +self\n",
      " |  \n",
      " |  __pow__(self, value, mod=None, /)\n",
      " |      Return pow(self, value, mod).\n",
      " |  \n",
      " |  __radd__(self, value, /)\n",
      " |      Return value+self.\n",
      " |  \n",
      " |  __rand__(self, value, /)\n",
      " |      Return value&self.\n",
      " |  \n",
      " |  __rdivmod__(self, value, /)\n",
      " |      Return divmod(value, self).\n",
      " |  \n",
      " |  __repr__(self, /)\n",
      " |      Return repr(self).\n",
      " |  \n",
      " |  __rfloordiv__(self, value, /)\n",
      " |      Return value//self.\n",
      " |  \n",
      " |  __rlshift__(self, value, /)\n",
      " |      Return value<<self.\n",
      " |  \n",
      " |  __rmod__(self, value, /)\n",
      " |      Return value%self.\n",
      " |  \n",
      " |  __rmul__(self, value, /)\n",
      " |      Return value*self.\n",
      " |  \n",
      " |  __ror__(self, value, /)\n",
      " |      Return value|self.\n",
      " |  \n",
      " |  __round__(...)\n",
      " |      Rounding an Integral returns itself.\n",
      " |      Rounding with an ndigits argument also returns an integer.\n",
      " |  \n",
      " |  __rpow__(self, value, mod=None, /)\n",
      " |      Return pow(value, self, mod).\n",
      " |  \n",
      " |  __rrshift__(self, value, /)\n",
      " |      Return value>>self.\n",
      " |  \n",
      " |  __rshift__(self, value, /)\n",
      " |      Return self>>value.\n",
      " |  \n",
      " |  __rsub__(self, value, /)\n",
      " |      Return value-self.\n",
      " |  \n",
      " |  __rtruediv__(self, value, /)\n",
      " |      Return value/self.\n",
      " |  \n",
      " |  __rxor__(self, value, /)\n",
      " |      Return value^self.\n",
      " |  \n",
      " |  __sizeof__(...)\n",
      " |      Returns size in memory, in bytes\n",
      " |  \n",
      " |  __str__(self, /)\n",
      " |      Return str(self).\n",
      " |  \n",
      " |  __sub__(self, value, /)\n",
      " |      Return self-value.\n",
      " |  \n",
      " |  __truediv__(self, value, /)\n",
      " |      Return self/value.\n",
      " |  \n",
      " |  __trunc__(...)\n",
      " |      Truncating an Integral returns itself.\n",
      " |  \n",
      " |  __xor__(self, value, /)\n",
      " |      Return self^value.\n",
      " |  \n",
      " |  bit_length(...)\n",
      " |      int.bit_length() -> int\n",
      " |      \n",
      " |      Number of bits necessary to represent self in binary.\n",
      " |      >>> bin(37)\n",
      " |      '0b100101'\n",
      " |      >>> (37).bit_length()\n",
      " |      6\n",
      " |  \n",
      " |  conjugate(...)\n",
      " |      Returns self, the complex conjugate of any int.\n",
      " |  \n",
      " |  from_bytes(...) from builtins.type\n",
      " |      int.from_bytes(bytes, byteorder, *, signed=False) -> int\n",
      " |      \n",
      " |      Return the integer represented by the given array of bytes.\n",
      " |      \n",
      " |      The bytes argument must be a bytes-like object (e.g. bytes or bytearray).\n",
      " |      \n",
      " |      The byteorder argument determines the byte order used to represent the\n",
      " |      integer.  If byteorder is 'big', the most significant byte is at the\n",
      " |      beginning of the byte array.  If byteorder is 'little', the most\n",
      " |      significant byte is at the end of the byte array.  To request the native\n",
      " |      byte order of the host system, use `sys.byteorder' as the byte order value.\n",
      " |      \n",
      " |      The signed keyword-only argument indicates whether two's complement is\n",
      " |      used to represent the integer.\n",
      " |  \n",
      " |  to_bytes(...)\n",
      " |      int.to_bytes(length, byteorder, *, signed=False) -> bytes\n",
      " |      \n",
      " |      Return an array of bytes representing an integer.\n",
      " |      \n",
      " |      The integer is represented using length bytes.  An OverflowError is\n",
      " |      raised if the integer is not representable with the given number of\n",
      " |      bytes.\n",
      " |      \n",
      " |      The byteorder argument determines the byte order used to represent the\n",
      " |      integer.  If byteorder is 'big', the most significant byte is at the\n",
      " |      beginning of the byte array.  If byteorder is 'little', the most\n",
      " |      significant byte is at the end of the byte array.  To request the native\n",
      " |      byte order of the host system, use `sys.byteorder' as the byte order value.\n",
      " |      \n",
      " |      The signed keyword-only argument determines whether two's complement is\n",
      " |      used to represent the integer.  If signed is False and a negative integer\n",
      " |      is given, an OverflowError is raised.\n",
      " |  \n",
      " |  ----------------------------------------------------------------------\n",
      " |  Data descriptors defined here:\n",
      " |  \n",
      " |  denominator\n",
      " |      the denominator of a rational number in lowest terms\n",
      " |  \n",
      " |  imag\n",
      " |      the imaginary part of a complex number\n",
      " |  \n",
      " |  numerator\n",
      " |      the numerator of a rational number in lowest terms\n",
      " |  \n",
      " |  real\n",
      " |      the real part of a complex number\n",
      "\n"
     ]
    },
    {
     "data": {
      "text/plain": [
       "'Return the absolute value of the argument.'"
      ]
     },
     "execution_count": 6,
     "metadata": {},
     "output_type": "execute_result"
    }
   ],
   "source": [
    "help(5)\n",
    "dir(5)\n",
    "abs.__doc__"
   ]
  },
  {
   "cell_type": "markdown",
   "metadata": {},
   "source": [
    "Dans Python, les blocs sont spécifiés par indentation. L'indentation commence dans un bloc, désindenté à la fin d'un bloc.\n",
    "Les instructions qui recquierent un niveau d'indentation finissent par une point virgule. Les commentaires commencent par un dièse.\n",
    "(#) est ligne, les chaines de caractères multi lignes sont utilisées dans les commentaires multi lignes. Les valeurs sont assignées.\n",
    "(en fait les objets sont liées aux noms ) avec le signe égal (\"=\"), et le test d'égalité est fait en utilisant deux signes égal (\"==\"). Vous pouvez inrémenter et décrémenter les valeurs en utilisant les opérateurs += et -= \n",
    "respectivement à la droite de la valeur.\n",
    "Par exemple : "
   ]
  },
  {
   "cell_type": "code",
   "execution_count": 7,
   "metadata": {
    "collapsed": true,
    "scrolled": true
   },
   "outputs": [],
   "source": [
    "myvar=3"
   ]
  },
  {
   "cell_type": "code",
   "execution_count": 8,
   "metadata": {},
   "outputs": [
    {
     "data": {
      "text/plain": [
       "3"
      ]
     },
     "execution_count": 8,
     "metadata": {},
     "output_type": "execute_result"
    }
   ],
   "source": [
    "myvar"
   ]
  },
  {
   "cell_type": "code",
   "execution_count": 9,
   "metadata": {
    "collapsed": true
   },
   "outputs": [],
   "source": [
    "myvar-=1"
   ]
  },
  {
   "cell_type": "code",
   "execution_count": 10,
   "metadata": {},
   "outputs": [
    {
     "data": {
      "text/plain": [
       "2"
      ]
     },
     "execution_count": 10,
     "metadata": {},
     "output_type": "execute_result"
    }
   ],
   "source": [
    "myvar"
   ]
  },
  {
   "cell_type": "code",
   "execution_count": 11,
   "metadata": {},
   "outputs": [
    {
     "data": {
      "text/plain": [
       "'Ceci est un commentaire multiligne. \\nLes lignes suivantes concatènent deux chaines de caractères'"
      ]
     },
     "execution_count": 11,
     "metadata": {},
     "output_type": "execute_result"
    }
   ],
   "source": [
    "\"\"\"Ceci est un commentaire multiligne. \n",
    "Les lignes suivantes concatènent deux chaines de caractères\"\"\""
   ]
  },
  {
   "cell_type": "code",
   "execution_count": 12,
   "metadata": {
    "collapsed": true
   },
   "outputs": [],
   "source": [
    "mystring = \"Hello\""
   ]
  },
  {
   "cell_type": "code",
   "execution_count": 13,
   "metadata": {
    "collapsed": true
   },
   "outputs": [],
   "source": [
    "mystring += \"world\""
   ]
  },
  {
   "cell_type": "code",
   "execution_count": 14,
   "metadata": {},
   "outputs": [
    {
     "name": "stdout",
     "output_type": "stream",
     "text": [
      "Helloworld\n"
     ]
    }
   ],
   "source": [
    "print(mystring)"
   ]
  },
  {
   "cell_type": "code",
   "execution_count": 15,
   "metadata": {
    "collapsed": true
   },
   "outputs": [],
   "source": [
    "myvar,mystring=mystring,myvar"
   ]
  },
  {
   "cell_type": "markdown",
   "metadata": {},
   "source": [
    "#Types de données\n",
    "Les structures de données disponibles sur Python sont les listes, les tuples et les dictionnaires. Les sets sont disponibles dans les librairies Sets (mais sont construites dans Python 2.5 et plus récent). Les Lists sont des tableaus mono dimensionnel. (mais vous pouvez aussi avoir des lists d'autres lists),\n",
    "les dictionnaires sont des tableaux associatifs (aussi connu sous le nom de hash tables) et les tuples sont des tableaux mono dimensionnel immutables (les tableaux Python peuvent être de n'importe quel type, donc vous pouvez mélanger les entiers, les chaines de caractères, etc dans les lists/dictionnaires/tuples). L'index du premier objet dans tous les types de tableau est 0. Les nombres négatifs comptent depuis la fin de la liste, donc -1 est le dernier élèment de la liste.  Les variables ne peuvent pas pointer vers des fonctions. L'utilisation est la suivante : \n"
   ]
  },
  {
   "cell_type": "code",
   "execution_count": 16,
   "metadata": {
    "collapsed": true
   },
   "outputs": [],
   "source": [
    "sample=[1,\"autre\",\"liste\"],(\"a\",\"tuple\")"
   ]
  },
  {
   "cell_type": "code",
   "execution_count": 17,
   "metadata": {
    "collapsed": true
   },
   "outputs": [],
   "source": [
    "maListe = [\"Objet 1 de la liste\", 2, 3.14]"
   ]
  },
  {
   "cell_type": "code",
   "execution_count": 18,
   "metadata": {
    "collapsed": true
   },
   "outputs": [],
   "source": [
    " maListe[0] = \"Objet 1 de la liste encore\" # Nous changeons d'objet."
   ]
  },
  {
   "cell_type": "code",
   "execution_count": 19,
   "metadata": {
    "collapsed": true
   },
   "outputs": [],
   "source": [
    "maListe[-1] = 3.21 # Ici nous faisons reference au dernier objet."
   ]
  },
  {
   "cell_type": "code",
   "execution_count": 20,
   "metadata": {
    "collapsed": true
   },
   "outputs": [],
   "source": [
    "monDictionnaire = {\"cle 1\": \"valeur 1\", 2: 3, \"pi\": 3.14}"
   ]
  },
  {
   "cell_type": "code",
   "execution_count": 21,
   "metadata": {},
   "outputs": [],
   "source": [
    "monDictionnaire[\"pi\"] = 3.15 # C'est comme ca que l'on change les valeurs d'un dictionnaire."
   ]
  },
  {
   "cell_type": "code",
   "execution_count": 22,
   "metadata": {
    "collapsed": true
   },
   "outputs": [],
   "source": [
    "monTuple = (1, 2, 3)"
   ]
  },
  {
   "cell_type": "code",
   "execution_count": 23,
   "metadata": {
    "collapsed": true
   },
   "outputs": [],
   "source": [
    "maFonction = len\n"
   ]
  },
  {
   "cell_type": "code",
   "execution_count": 24,
   "metadata": {},
   "outputs": [
    {
     "name": "stdout",
     "output_type": "stream",
     "text": [
      "3\n"
     ]
    }
   ],
   "source": [
    "print(maFonction(maListe))"
   ]
  },
  {
   "cell_type": "markdown",
   "metadata": {},
   "source": [
    "Vous pouvez avoir acces à la portée du tableau en utilisant deux points (:). L'index de départ considéré sera le premier objet, donc la fin de l'index sera le dernier objet. L'indexation est inclusive-exclusive, donc spécifier [2:10] va retourner [2] (le troisième objet, à cause de l'indexation 0) to [9] (le dixieme objet), inclusive (8 objets). Les indexations négatives comptent depuis le dernier objet en arrière (par conséquent, -1 est le dernier objet) comme ceci : "
   ]
  },
  {
   "cell_type": "code",
   "execution_count": 25,
   "metadata": {
    "collapsed": true
   },
   "outputs": [],
   "source": [
    "maListe = [\"Objet de liste 1\", 2, 3.14]"
   ]
  },
  {
   "cell_type": "code",
   "execution_count": 26,
   "metadata": {},
   "outputs": [
    {
     "name": "stdout",
     "output_type": "stream",
     "text": [
      "['Objet de liste 1', 2, 3.14]\n"
     ]
    }
   ],
   "source": [
    "print(maListe[:])"
   ]
  },
  {
   "cell_type": "code",
   "execution_count": 27,
   "metadata": {},
   "outputs": [
    {
     "name": "stdout",
     "output_type": "stream",
     "text": [
      "['Objet de liste 1', 2]\n"
     ]
    }
   ],
   "source": [
    "print(maListe[0:2])"
   ]
  },
  {
   "cell_type": "code",
   "execution_count": 28,
   "metadata": {},
   "outputs": [
    {
     "name": "stdout",
     "output_type": "stream",
     "text": [
      "['Objet de liste 1', 2]\n"
     ]
    }
   ],
   "source": [
    "print(maListe[-3:-1])"
   ]
  },
  {
   "cell_type": "code",
   "execution_count": 29,
   "metadata": {},
   "outputs": [
    {
     "name": "stdout",
     "output_type": "stream",
     "text": [
      "[2, 3.14]\n"
     ]
    }
   ],
   "source": [
    "print(maListe[1:])"
   ]
  },
  {
   "cell_type": "code",
   "execution_count": 30,
   "metadata": {},
   "outputs": [
    {
     "name": "stdout",
     "output_type": "stream",
     "text": [
      "['Objet de liste 1', 3.14]\n"
     ]
    }
   ],
   "source": [
    "print(maListe[::2])"
   ]
  },
  {
   "cell_type": "markdown",
   "metadata": {},
   "source": [
    "#Chaines de caractères\n",
    "Ces chaines de caractères peuvent être utilisées dans les simples guillements et dans les doubles guillemets, vous pouvez utiliser le premier type de guillemets dans une chaine de caractères qui utilisent l'autre type de guillemets (i.e \"Il a dit 'Bonjour'\" est valide). Les chaines de caractères multilignes sont entourées de triple (ou seul) guillemets (\"\"\"). Python supporte l'Unicode en dehors de la boite, utilisant la syntaxe \"Ceci est une chaine de caractère unicode\". Pour remplir une chaine de caractère avec des valeurs, utilisez l'opérateur % (modulo) et un tuple. Chaque % est remplacé par un objet du tuple, gauche ou droite, et vous pouvez aussi utiliser les substitutions de dictionnaire, comme ceci :"
   ]
  },
  {
   "cell_type": "code",
   "execution_count": 31,
   "metadata": {},
   "outputs": [
    {
     "ename": "SyntaxError",
     "evalue": "(unicode error) 'unicodeescape' codec can't decode bytes in position 8-9: malformed \\N character escape (<ipython-input-31-71e53c79ae7e>, line 1)",
     "output_type": "error",
     "traceback": [
      "\u001b[1;36m  File \u001b[1;32m\"<ipython-input-31-71e53c79ae7e>\"\u001b[1;36m, line \u001b[1;32m1\u001b[0m\n\u001b[1;33m    print(\"Name: %s\\Number: %s\\String: %s\" % (maClasse.nom, 3, 3 * \"-\"))\u001b[0m\n\u001b[1;37m         ^\u001b[0m\n\u001b[1;31mSyntaxError\u001b[0m\u001b[1;31m:\u001b[0m (unicode error) 'unicodeescape' codec can't decode bytes in position 8-9: malformed \\N character escape\n"
     ]
    }
   ],
   "source": [
    "print(\"Name: %s\\Number: %s\\String: %s\" % (maClasse.nom, 3, 3 * \"-\"))"
   ]
  },
  {
   "cell_type": "code",
   "execution_count": 32,
   "metadata": {
    "collapsed": true
   },
   "outputs": [],
   "source": [
    "strString = \"\"\"Ceci est\n",
    "une chaine de caractère\n",
    "multilignes\"\"\""
   ]
  },
  {
   "cell_type": "code",
   "execution_count": 33,
   "metadata": {},
   "outputs": [
    {
     "name": "stdout",
     "output_type": "stream",
     "text": [
      "Ceci est un test.\n"
     ]
    }
   ],
   "source": [
    "print(\"Ceci %(verbe)s un %(nom)s.\" % {\"nom\": \"test\", \"verbe\": \"est\"})"
   ]
  },
  {
   "cell_type": "markdown",
   "metadata": {},
   "source": [
    "#Instructions de controle de flux\n",
    "Les instructions de controle de flux sont \"si\", \"pour\", et \"tant que\". Il n'y a pas de switch : à la place, utilisez if. Utilisez la boucle \"pour\" pour circuler à travers les élèments d'une liste. Pour obtenir une liste de nombres, utilisez distance(<nombres>). La syntaxe de ces instructions sont par consequent : "
   ]
  },
  {
   "cell_type": "code",
   "execution_count": 34,
   "metadata": {
    "collapsed": true
   },
   "outputs": [],
   "source": [
    "distanceListe = range(10)"
   ]
  },
  {
   "cell_type": "code",
   "execution_count": 35,
   "metadata": {},
   "outputs": [
    {
     "name": "stdout",
     "output_type": "stream",
     "text": [
      "range(0, 10)\n"
     ]
    }
   ],
   "source": [
    "print(distanceListe)"
   ]
  },
  {
   "cell_type": "code",
   "execution_count": 36,
   "metadata": {},
   "outputs": [
    {
     "ename": "SyntaxError",
     "evalue": "invalid syntax (<ipython-input-36-c8c7c880948a>, line 13)",
     "output_type": "error",
     "traceback": [
      "\u001b[1;36m  File \u001b[1;32m\"<ipython-input-36-c8c7c880948a>\"\u001b[1;36m, line \u001b[1;32m13\u001b[0m\n\u001b[1;33m    else:\u001b[0m\n\u001b[1;37m       ^\u001b[0m\n\u001b[1;31mSyntaxError\u001b[0m\u001b[1;31m:\u001b[0m invalid syntax\n"
     ]
    }
   ],
   "source": [
    "for nombre in distanceListe:\n",
    "         # Verifie si nombre est l'un\n",
    "         # des nombres d'un tuple\n",
    "    if nombre in (3,4,7,9):\n",
    "             # \"Break\" termine une boucle for sans\n",
    "            # executer l'instruction \"else\".\n",
    "        break\n",
    "    else:\n",
    "                # \"Continue\" commence l'itération suivante \n",
    "        # de la boucle. Dans ce cas-ci c'est inutile,\n",
    "        # du fait que cela est la dernière instruction de la boucle for.\n",
    "        continue\n",
    "    else:\n",
    "            # L'instruction else est optionnelle et est\n",
    "    # executée seulement si la boucle n'a pas été \"breakée\".\n",
    "    pass # Ne fait rien\n",
    "        pass"
   ]
  },
  {
   "cell_type": "code",
   "execution_count": null,
   "metadata": {},
   "outputs": [
    {
     "name": "stdout",
     "output_type": "stream",
     "text": [
      "Je ne sais pas :( \n"
     ]
    }
   ],
   "source": [
    "if distanceListe[1] == 2:\n",
    "        print(\"Le second objet (les listes sont basées sur 0) est 2\")\n",
    "elif distanceListe[1] == 3:\n",
    "        print(\"Le second objet (les listes sont basées sur 0) est 3\")\n",
    "else:\n",
    "        print(\"Je ne sais pas :( \")\n",
    "while distanceListe[1] == 1:\n",
    "        pass"
   ]
  },
  {
   "cell_type": "markdown",
   "metadata": {},
   "source": [
    "#Fonctions\n",
    "Les fonctions sont déclarées par le mot clé def. Les arguments optionnels sont définis dans la déclaration de la fonction après l'arguments mandataire en étant assigné à la valeur par défaut. Pour les arguments qui ont un nom, le nom de l'argument est assigné à la valeur. Les fonctions peuvent retourner un tuple (et utiliser un tuple unpacking vous pouvez effectivement retourner plusieurs variables). Les fonctions lambda sont des fonctions ad hoc qui sont compris dans une seule instruction.\n",
    "Les paramètres sont passés par référence, mais les types immutables (tuples,entiers, chaines de caractères, etc...) ne peuvent pas être changés dans l'appeleur par l'appelée. C'est parce que seul l'adresse mémoire de l'objet est passé, et lier un autre objet à une variable écrase l'ancienne valeur, donc les variables immutables sont remplacées. Par exemple : "
   ]
  },
  {
   "cell_type": "code",
   "execution_count": null,
   "metadata": {
    "collapsed": true
   },
   "outputs": [],
   "source": [
    "# Meme chose que def funcvar(x): return x + 1\n",
    "funcvar = lambda x: x + 1"
   ]
  },
  {
   "cell_type": "code",
   "execution_count": null,
   "metadata": {
    "collapsed": true
   },
   "outputs": [],
   "source": [
    "print(funcvar(1))"
   ]
  },
  {
   "cell_type": "code",
   "execution_count": null,
   "metadata": {
    "collapsed": true
   },
   "outputs": [],
   "source": [
    "# an_int et a_string sont optionnels, ils ont des valeurs par défaut\n",
    "# Si l'un n'est pas passé (2 et \"Une chaine de caractère par défaut\", respectivement).\n",
    "def exemple(une_liste, un_entier=2, une_chaine=\"A default string\"):\n",
    "    une_liste.append(\"Un nouvel objet\")\n",
    "    un_entier = 4\n",
    "    return une_liste, un_entier, une_chaine"
   ]
  },
  {
   "cell_type": "markdown",
   "metadata": {},
   "source": [
    "#Les classes\n",
    "Python supporte un nombre limité d'héritage multiple dans les classes. Les variables et les méthodes privées peuvent être déclarées (par convention, ceci n'est pas renforcée par le language) en ajoutant au moins deux tirets du bas et au moins un tiret du milieu (exemple : __spam). Nous pouvons aussi attacher arbitrairement des noms à des instances de classes. Comme l'exemple suivant :"
   ]
  },
  {
   "cell_type": "code",
   "execution_count": null,
   "metadata": {
    "collapsed": true
   },
   "outputs": [],
   "source": [
    "class MaClasse(object):\n",
    "    commun=10\n",
    "    def __init__(self):\n",
    "        self.mavariable = 3\n",
    "    def mafonction(self, arg1, arg2):\n",
    "        return self.mavariable"
   ]
  },
  {
   "cell_type": "code",
   "execution_count": null,
   "metadata": {
    "collapsed": true
   },
   "outputs": [],
   "source": [
    "# This is the class instantiation\n",
    "instanceDeClasse = MaClasse()"
   ]
  },
  {
   "cell_type": "code",
   "execution_count": null,
   "metadata": {
    "collapsed": true
   },
   "outputs": [],
   "source": [
    "instanceDeClasse.mafonction(1, 2)"
   ]
  },
  {
   "cell_type": "code",
   "execution_count": null,
   "metadata": {
    "collapsed": true
   },
   "outputs": [],
   "source": [
    "instanceDeClasse2 = maClasse()"
   ]
  },
  {
   "cell_type": "code",
   "execution_count": null,
   "metadata": {
    "collapsed": true
   },
   "outputs": [],
   "source": [
    "instanceDeClasse.commun"
   ]
  },
  {
   "cell_type": "code",
   "execution_count": null,
   "metadata": {
    "collapsed": true
   },
   "outputs": [],
   "source": [
    "instanceDeClasse2.common\n",
    "# Notez que l'on utilise le nom de la lasse\n",
    "# a la place de l'instance"
   ]
  },
  {
   "cell_type": "code",
   "execution_count": null,
   "metadata": {
    "collapsed": true
   },
   "outputs": [],
   "source": [
    "maClasse.commun = 30"
   ]
  },
  {
   "cell_type": "code",
   "execution_count": null,
   "metadata": {
    "collapsed": true
   },
   "outputs": [],
   "source": [
    "instanceDeClasse.commun"
   ]
  },
  {
   "cell_type": "code",
   "execution_count": null,
   "metadata": {
    "collapsed": true
   },
   "outputs": [],
   "source": [
    "instanceDeClasse2.common\n",
    "# Cela ne mettra pas à jour la variable sur la classe,\n",
    "# a la place, cela va lier un nouvel objet\n",
    "# à la vieille variable."
   ]
  },
  {
   "cell_type": "code",
   "execution_count": null,
   "metadata": {
    "collapsed": true
   },
   "outputs": [],
   "source": [
    "instanceDeClasse.commun = 10"
   ]
  },
  {
   "cell_type": "code",
   "execution_count": null,
   "metadata": {
    "collapsed": true
   },
   "outputs": [],
   "source": [
    "instanceDeClasse.commun"
   ]
  },
  {
   "cell_type": "code",
   "execution_count": null,
   "metadata": {
    "collapsed": true
   },
   "outputs": [],
   "source": [
    "instanceDeClasse2.commun"
   ]
  },
  {
   "cell_type": "code",
   "execution_count": null,
   "metadata": {
    "collapsed": true
   },
   "outputs": [],
   "source": [
    "maClasse.commun = 50\n",
    "# Cela n'a pas changé, parce que \"commun\" est\n",
    "# maintenant une instance de variable."
   ]
  },
  {
   "cell_type": "code",
   "execution_count": null,
   "metadata": {
    "collapsed": true
   },
   "outputs": [],
   "source": [
    "instanceDeClasse.commun"
   ]
  },
  {
   "cell_type": "code",
   "execution_count": null,
   "metadata": {
    "collapsed": true
   },
   "outputs": [],
   "source": [
    "instanceDeClasse2.commun"
   ]
  },
  {
   "cell_type": "code",
   "execution_count": null,
   "metadata": {
    "collapsed": true
   },
   "outputs": [],
   "source": [
    "# Cette classe hérite de MaClasse. L'exemple\n",
    "# au dessus  hérite de \"object\", ce qui fait de lui\n",
    "# ce que l'on appelle un \"new-style class\".\n",
    "# L'héritage multiple est déclaré ainsi :\n",
    "# classe autreClasse (maClasse1, maClasse2, maClasse2)\n",
    "class autreClasse(maClasse):\n",
    "    # L'argument \"self\"  est passé automatiquement\n",
    "    # et réfère à l'instance de la classe, pour que vous puissiez changer\n",
    "    # les instances de variable comme au dessus, mais de l'intérieur de la classe.\n",
    "    def __init__(self, arg1):\n",
    "        self.maVariable = 3\n",
    "        print(arg1)"
   ]
  },
  {
   "cell_type": "code",
   "execution_count": null,
   "metadata": {
    "collapsed": true
   },
   "outputs": [],
   "source": [
    "instanceDeClasse = autreClasse(\"bonjour\")"
   ]
  },
  {
   "cell_type": "code",
   "execution_count": null,
   "metadata": {
    "collapsed": true
   },
   "outputs": [],
   "source": [
    "instanceDeClasse.maFonction(1, 2)"
   ]
  },
  {
   "cell_type": "code",
   "execution_count": null,
   "metadata": {
    "collapsed": true
   },
   "outputs": [],
   "source": [
    "instanceDeClasse.test = 10"
   ]
  },
  {
   "cell_type": "code",
   "execution_count": null,
   "metadata": {
    "collapsed": true
   },
   "outputs": [],
   "source": [
    "instanceDeClasse.test"
   ]
  },
  {
   "cell_type": "markdown",
   "metadata": {},
   "source": [
    "#Exceptions\n",
    "Les exceptions sur python sont gérées par try-except [nom de l'exception']"
   ]
  },
  {
   "cell_type": "code",
   "execution_count": null,
   "metadata": {
    "collapsed": true
   },
   "outputs": [],
   "source": [
    "def uneFonction():\n",
    "    try:\n",
    "        # Exception a cause de la division par 0\n",
    "        10 / 0\n",
    "    except ZeroDivisionError:\n",
    "        print(\"Oops, invalide.\")\n",
    "    else:\n",
    "        # L'exception n'arrive pas, tout est ok.\n",
    "        pass\n",
    "    finally:\n",
    "        # Ceci est exécuté après le bloc de code est exécuté\n",
    "        # et toutes les excptions ont été géré même si\n",
    "        # une nouvelle exception est gérée.\n",
    "        print(\"Ok on a finit avec ça ! :D .\")"
   ]
  },
  {
   "cell_type": "code",
   "execution_count": null,
   "metadata": {
    "collapsed": true
   },
   "outputs": [],
   "source": [
    "uneFonction()"
   ]
  },
  {
   "cell_type": "markdown",
   "metadata": {},
   "source": [
    "#Importation\n",
    "Les librairies externes sont utilisées avec import[noms de librairies]. Vous pouvez aussi utiliser  from [libname] import [funcname] pour des fonctions individuelles. Voici un exemple:"
   ]
  },
  {
   "cell_type": "markdown",
   "metadata": {},
   "source": [
    "#Fichiers I/O\n",
    "Python a une vaste librarie de tableau. Par exemple, voici comment serializer (convertissant les structures de données en chaine de caractères en utilisant la librairie pickle) :"
   ]
  },
  {
   "cell_type": "code",
   "execution_count": null,
   "metadata": {
    "collapsed": true
   },
   "outputs": [],
   "source": [
    "import pickle\n",
    "maListe = [\"Ceci\", \"est\", 4, 13327]\n",
    "# Ouvrez le fichier C:\\\\binary.dat pour l'écriture. La lettre  r avant le\n",
    "# nom de fichier est utilisé pour prévenir l'échappement."
   ]
  },
  {
   "cell_type": "code",
   "execution_count": null,
   "metadata": {
    "collapsed": true
   },
   "outputs": [],
   "source": [
    "monfichier = open(r\"C:\\\\binary.dat\", \"wb\")"
   ]
  },
  {
   "cell_type": "code",
   "execution_count": null,
   "metadata": {
    "collapsed": true
   },
   "outputs": [],
   "source": [
    "pickle.dump(mylist, monfichier)"
   ]
  },
  {
   "cell_type": "code",
   "execution_count": null,
   "metadata": {
    "collapsed": true
   },
   "outputs": [],
   "source": [
    "monfichier.close()"
   ]
  },
  {
   "cell_type": "code",
   "execution_count": null,
   "metadata": {
    "collapsed": true
   },
   "outputs": [],
   "source": [
    "monfichier = open(r\"C:\\\\text.txt\", \"w\")"
   ]
  },
  {
   "cell_type": "code",
   "execution_count": null,
   "metadata": {
    "collapsed": true
   },
   "outputs": [],
   "source": [
    "monfichier.write(\"Un exemple de chaine de caractères\")"
   ]
  },
  {
   "cell_type": "code",
   "execution_count": null,
   "metadata": {
    "collapsed": true
   },
   "outputs": [],
   "source": [
    "monfichier.close()"
   ]
  },
  {
   "cell_type": "code",
   "execution_count": null,
   "metadata": {
    "collapsed": true
   },
   "outputs": [],
   "source": [
    "monfichier = open(r\"C:\\\\text.txt\")"
   ]
  },
  {
   "cell_type": "code",
   "execution_count": null,
   "metadata": {
    "collapsed": true
   },
   "outputs": [],
   "source": [
    "print(monfichier.read())"
   ]
  },
  {
   "cell_type": "code",
   "execution_count": null,
   "metadata": {
    "collapsed": true
   },
   "outputs": [],
   "source": [
    "monfichier.close()"
   ]
  },
  {
   "cell_type": "code",
   "execution_count": null,
   "metadata": {
    "collapsed": true
   },
   "outputs": [],
   "source": [
    "# Ouvre le fichier pour la lecture\n",
    "monfichier = open(r\"C:\\\\binary.dat\", \"rb\")"
   ]
  },
  {
   "cell_type": "code",
   "execution_count": null,
   "metadata": {
    "collapsed": true
   },
   "outputs": [],
   "source": [
    "listeChargée = pickle.load(monfichier)"
   ]
  },
  {
   "cell_type": "code",
   "execution_count": null,
   "metadata": {
    "collapsed": true
   },
   "outputs": [],
   "source": [
    "monfichier.close()"
   ]
  },
  {
   "cell_type": "code",
   "execution_count": null,
   "metadata": {
    "collapsed": true
   },
   "outputs": [],
   "source": [
    "print(listeChargée)\n"
   ]
  },
  {
   "cell_type": "markdown",
   "metadata": {},
   "source": [
    "#Autre\n",
    "Les conditions ne peuvent pas être chainée 1<a<3 vérifie si a est plus grand que 1 et plus petit que 3.\n",
    "Vous pouvez utiliser del pour supprimer des variables ou les objets d'une liste.\n",
    "La compréhension des Lists apporte un moyen puissant pour créer et manipuler les lists. Ils consistent en une expression suivit par une clause \"for\",suivit par 0 et plus de \"if\" et des clauses \"for\" comme ceci :"
   ]
  },
  {
   "cell_type": "code",
   "execution_count": null,
   "metadata": {
    "collapsed": true
   },
   "outputs": [],
   "source": [
    "lst1 = [1, 2, 3]"
   ]
  },
  {
   "cell_type": "code",
   "execution_count": null,
   "metadata": {
    "collapsed": true
   },
   "outputs": [],
   "source": [
    "lst2 = [3, 4, 5]"
   ]
  },
  {
   "cell_type": "code",
   "execution_count": null,
   "metadata": {
    "collapsed": true
   },
   "outputs": [],
   "source": [
    "print([x * y for x in lst1 for y in lst2])"
   ]
  },
  {
   "cell_type": "code",
   "execution_count": null,
   "metadata": {
    "collapsed": true
   },
   "outputs": [],
   "source": [
    "print([x for x in lst1 if 4 > x > 1])"
   ]
  },
  {
   "cell_type": "code",
   "execution_count": null,
   "metadata": {
    "collapsed": true
   },
   "outputs": [],
   "source": [
    "# Vérifie si une condition est vraie pour tous les objets\n",
    "# \"any\" retourne true si un objet de la liste est vraie\n",
    ">>> any([i % 3 for i in [3, 3, 4, 4, 3]])"
   ]
  },
  {
   "cell_type": "code",
   "execution_count": null,
   "metadata": {
    "collapsed": true
   },
   "outputs": [],
   "source": [
    "# C'est parce que 4 % 3 = 1, et  1 est vrai, donc any()\n",
    "# retourne True.\n",
    "\n",
    "# Vérifie combien d'objets vérifie la condition (donc sont True).\n",
    ">>> sum(1 for i in [3, 3, 4, 4, 3] if i == 4)"
   ]
  },
  {
   "cell_type": "code",
   "execution_count": null,
   "metadata": {
    "collapsed": true
   },
   "outputs": [],
   "source": [
    "del lst1[0]"
   ]
  },
  {
   "cell_type": "code",
   "execution_count": null,
   "metadata": {
    "collapsed": true
   },
   "outputs": [],
   "source": [
    "print(lst1)"
   ]
  },
  {
   "cell_type": "code",
   "execution_count": null,
   "metadata": {
    "collapsed": true
   },
   "outputs": [],
   "source": [
    "del lst1"
   ]
  },
  {
   "cell_type": "markdown",
   "metadata": {},
   "source": [
    "Les variables globales sont déclarées en dehors des fonctions et peuvent être lue sans déclarations spéciales, mais si vous voulez écrire vous devez les déclarer au début de la fonction avec le mot clé \"global\", sinon Python va lier cet objet à une nouvelle variable locale (attention à ça, vous pouvez vous faire avoir si vous ne savez pas ça). Par exemple : "
   ]
  },
  {
   "cell_type": "code",
   "execution_count": null,
   "metadata": {
    "collapsed": true
   },
   "outputs": [],
   "source": [
    "nombre = 5"
   ]
  },
  {
   "cell_type": "code",
   "execution_count": null,
   "metadata": {
    "collapsed": true
   },
   "outputs": [],
   "source": [
    "def maFonction():\n",
    "    # Cela affichera 5.\n",
    "    print(nombre)"
   ]
  },
  {
   "cell_type": "code",
   "execution_count": null,
   "metadata": {
    "collapsed": true
   },
   "outputs": [],
   "source": [
    "def uneAutreFonction():\n",
    "    #Cela monte une exception parce que la varible n'a pas été\n",
    "    # liée avant d'être affichée. Python sait si un objet va être liée plus tard et crée un nouvel objet,\n",
    "    # objet local au lieu d'accéder à la variable globale\n",
    "    print(nombre)\n",
    "    nombre = 3"
   ]
  },
  {
   "cell_type": "code",
   "execution_count": null,
   "metadata": {
    "collapsed": true
   },
   "outputs": [],
   "source": [
    "def uneAutreFonctionEncore():\n",
    "    global nombre\n",
    "    # Ceci va correctement changer la variable globale.\n",
    "    nombre = 3"
   ]
  },
  {
   "cell_type": "markdown",
   "metadata": {},
   "source": [
    "#Epilogue\n",
    "Ce tutoriel n'est pas une description exhaustive de Python. Python a une liste vaste de librairies et bien plus de fonctionnalité que vous devrez découvrir par vous meme, comme l'excellent \"Dive into Python\". J'espère que j'ai permis une transition vers Python plus simple pour vous. Laissez des commentaires si vous pensez que quelque chose est à améliorer.\n",
    "Suivez moi sur Twitter !"
   ]
  }
 ],
 "metadata": {
  "kernelspec": {
   "display_name": "Python 3",
   "language": "python",
   "name": "python3"
  },
  "language_info": {
   "codemirror_mode": {
    "name": "ipython",
    "version": 3
   },
   "file_extension": ".py",
   "mimetype": "text/x-python",
   "name": "python",
   "nbconvert_exporter": "python",
   "pygments_lexer": "ipython3",
   "version": "3.6.2"
  }
 },
 "nbformat": 4,
 "nbformat_minor": 2
}
