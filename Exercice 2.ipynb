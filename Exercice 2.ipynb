{
 "cells": [
  {
   "cell_type": "markdown",
   "metadata": {},
   "source": [
    "# Analyse reproductible en Python Exercices Séance 1\n",
    "Auteur : Philippe Tu BDTN - Promotion 2019 \n",
    "Date de création : 10 / 03 / 2018\n",
    "Exercices 2 : "
   ]
  },
  {
   "cell_type": "markdown",
   "metadata": {},
   "source": [
    "#Les Lists : Les lists sont des tableaux extensibles, on peut y mettre tout type de variable de Python.\n",
    "\n",
    "Complexité de temps : \n",
    "\n",
    "Les + : O(1) pour l'accès\n",
    "\n",
    "Les - : O(n) pour la recherche, l'insertion, suppression. \n",
    "\n",
    "Complexité d'espace (mémoire) : O(n) \n",
    "\n",
    "Conclusion : Ce n'est pas la meilleure structure de données à utiliser lorsque l'on souhaitera implémenter des algorithmes qui vont devoir être scalable.\n",
    "\n",
    "Un exemple pour illustrer la linéarité O(n) de l'insertion avec le code qui suit :"
   ]
  },
  {
   "cell_type": "code",
   "execution_count": 86,
   "metadata": {},
   "outputs": [
    {
     "name": "stdout",
     "output_type": "stream",
     "text": [
      "Pour 100 élements\n"
     ]
    },
    {
     "data": {
      "text/plain": [
       "1.3653339010488708e-05"
      ]
     },
     "execution_count": 86,
     "metadata": {},
     "output_type": "execute_result"
    }
   ],
   "source": [
    "#Dans cet exemple, nous allons mettre en évidence la complexité O(n) de l'insertion, faisons le pour 100 élèments puis pour 100000\n",
    "from timeit import default_timer as timer #time est une librarie qui inclut des fonctions pour mesurer les performances\n",
    "def testElements(nbrElements):\n",
    "    start = timer() #Début de mesure de temps\n",
    "    liste=[]\n",
    "    for number in range(0,nbrElements):\n",
    "        liste.append(number)\n",
    "    end = timer()#Fin de mesure de temps\n",
    "    return end-start\n",
    "print(\"Pour 100 élements\")\n",
    "testElements(100)#Le temps de processing"
   ]
  },
  {
   "cell_type": "code",
   "execution_count": 87,
   "metadata": {},
   "outputs": [
    {
     "name": "stdout",
     "output_type": "stream",
     "text": [
      "Pour 1000 élements\n"
     ]
    },
    {
     "data": {
      "text/plain": [
       "0.00010282671041750291"
      ]
     },
     "execution_count": 87,
     "metadata": {},
     "output_type": "execute_result"
    }
   ],
   "source": [
    "print(\"Pour 1000 élements\")\n",
    "testElements(1000)#Le temps de processing"
   ]
  },
  {
   "cell_type": "code",
   "execution_count": 88,
   "metadata": {},
   "outputs": [
    {
     "name": "stdout",
     "output_type": "stream",
     "text": [
      "Pour 100000 élements\n"
     ]
    },
    {
     "data": {
      "text/plain": [
       "0.1314526427529472"
      ]
     },
     "execution_count": 88,
     "metadata": {},
     "output_type": "execute_result"
    }
   ],
   "source": [
    "print(\"Pour 100000 élements\")\n",
    "testElements(1000000)#Le temps de processing"
   ]
  },
  {
   "cell_type": "markdown",
   "metadata": {},
   "source": [
    "On constate bien une linéarité du temps de calcul pour l'opération d'insertion, O(n) en insertion est donc vrai.\n"
   ]
  }
 ],
 "metadata": {
  "kernelspec": {
   "display_name": "Python 3",
   "language": "python",
   "name": "python3"
  },
  "language_info": {
   "codemirror_mode": {
    "name": "ipython",
    "version": 3
   },
   "file_extension": ".py",
   "mimetype": "text/x-python",
   "name": "python",
   "nbconvert_exporter": "python",
   "pygments_lexer": "ipython3",
   "version": "3.6.2"
  }
 },
 "nbformat": 4,
 "nbformat_minor": 2
}
