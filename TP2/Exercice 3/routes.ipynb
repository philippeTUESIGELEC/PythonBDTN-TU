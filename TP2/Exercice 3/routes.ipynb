{
 "cells": [
  {
   "cell_type": "markdown",
   "metadata": {
    "collapsed": true
   },
   "source": [
    "#TP2 Exercice 3 : \n",
    "Analyse reproductible en Python\n",
    "Date de création : 16 / 03 / 2018\n",
    "Partie 1 : Chargement et nettoyage\n",
    "— Téléchargez les données au format CSV\n",
    "— Chargez les dans une dataframe\n",
    "— Vérifiez que epaisseurdernierstravaux est bien de type réel.\n",
    "— Identifiez et nettoyez les valeurs aberrantes. Justifiez votre stratégie\n",
    "de nettoyage.\n",
    "4. Partie 2 : Analyse\n",
    "— Quels sont les 5 natures de travaux les plus fréquentes ?\n",
    "— Pour chaque année, quel est le nombre de travaux réalisés et l’épaisseur\n",
    "moyennne ? Triez le résultat par épaisseur descendante."
   ]
  },
  {
   "cell_type": "code",
   "execution_count": 10,
   "metadata": {
    "collapsed": true
   },
   "outputs": [],
   "source": [
    "import pandas as pd\n",
    "import numpy as np\n",
    "import seaborn as sns\n",
    "import re\n",
    "from collections import Counter\n",
    "from IPython.core.interactiveshell import InteractiveShell\n",
    "InteractiveShell.ast_node_interactivity = \"all\""
   ]
  },
  {
   "cell_type": "code",
   "execution_count": 11,
   "metadata": {
    "collapsed": true
   },
   "outputs": [],
   "source": [
    "df = pd.read_csv('C:/Users/user/Desktop/RepositoryTP/PythonBDTN-TU/TP2/CGDRSGDRDTRoutesdernierstravaux.csv',sep=\";\")"
   ]
  },
  {
   "cell_type": "markdown",
   "metadata": {},
   "source": [
    "Check for na values"
   ]
  },
  {
   "cell_type": "code",
   "execution_count": 12,
   "metadata": {},
   "outputs": [
    {
     "data": {
      "text/plain": [
       "0"
      ]
     },
     "execution_count": 12,
     "metadata": {},
     "output_type": "execute_result"
    }
   ],
   "source": [
    "pd.isnull(df['epaisseurdernierstravaux']).sum()"
   ]
  },
  {
   "cell_type": "markdown",
   "metadata": {},
   "source": [
    "Part 1 : \n",
    "1.Check if epaisseurdersnierstravaux is numeric format.\n",
    " Let's check if that epaisseurdernierstravaux is a numeric value.\n"
   ]
  },
  {
   "cell_type": "code",
   "execution_count": 13,
   "metadata": {},
   "outputs": [
    {
     "data": {
      "text/plain": [
       "entityid                    object\n",
       "route                       object\n",
       "rub                          int64\n",
       "age                          int64\n",
       "mois                         int64\n",
       "annee                        int64\n",
       "prd                          int64\n",
       "abd                          int64\n",
       "prf                          int64\n",
       "abf                          int64\n",
       "cumuld                       int64\n",
       "cumulf                       int64\n",
       "long                         int64\n",
       "epaisseurdernierstravaux    object\n",
       "anneedernierstravaux         int64\n",
       "naturedernierstravaux       object\n",
       "supportdernierstravaux      object\n",
       "dtype: object"
      ]
     },
     "execution_count": 13,
     "metadata": {},
     "output_type": "execute_result"
    }
   ],
   "source": [
    "df.dtypes"
   ]
  },
  {
   "cell_type": "markdown",
   "metadata": {},
   "source": [
    "It's an object value, let's convert that column into numeric values."
   ]
  },
  {
   "cell_type": "code",
   "execution_count": 14,
   "metadata": {},
   "outputs": [
    {
     "data": {
      "text/plain": [
       "0           1,5\n",
       "1             1\n",
       "2             1\n",
       "3             2\n",
       "4             1\n",
       "5             6\n",
       "6             4\n",
       "7             1\n",
       "8             5\n",
       "9             3\n",
       "10            1\n",
       "11            4\n",
       "12            5\n",
       "13            3\n",
       "14            6\n",
       "15            2\n",
       "16            2\n",
       "17            8\n",
       "18          1,2\n",
       "19            0\n",
       "20            4\n",
       "21            6\n",
       "22            1\n",
       "23            1\n",
       "24            5\n",
       "25            1\n",
       "26            3\n",
       "27      9999,99\n",
       "28            5\n",
       "29            4\n",
       "         ...   \n",
       "5462        0,6\n",
       "5463        1,5\n",
       "5464          4\n",
       "5465          1\n",
       "5466        0,6\n",
       "5467          1\n",
       "5468          1\n",
       "5469          1\n",
       "5470        1,5\n",
       "5471          1\n",
       "5472        1,2\n",
       "5473        2,5\n",
       "5474          1\n",
       "5475          4\n",
       "5476          1\n",
       "5477        2,5\n",
       "5478          4\n",
       "5479          4\n",
       "5480        1,5\n",
       "5481          1\n",
       "5482        3,5\n",
       "5483          4\n",
       "5484          1\n",
       "5485          1\n",
       "5486          4\n",
       "5487          3\n",
       "5488          1\n",
       "5489        2,5\n",
       "5490          4\n",
       "5491          1\n",
       "Name: epaisseurdernierstravaux, Length: 5492, dtype: object"
      ]
     },
     "execution_count": 14,
     "metadata": {},
     "output_type": "execute_result"
    }
   ],
   "source": [
    "pd.to_numeric(df['epaisseurdernierstravaux'],errors='ignore')"
   ]
  },
  {
   "cell_type": "code",
   "execution_count": 15,
   "metadata": {},
   "outputs": [
    {
     "data": {
      "text/plain": [
       "entityid                    object\n",
       "route                       object\n",
       "rub                          int64\n",
       "age                          int64\n",
       "mois                         int64\n",
       "annee                        int64\n",
       "prd                          int64\n",
       "abd                          int64\n",
       "prf                          int64\n",
       "abf                          int64\n",
       "cumuld                       int64\n",
       "cumulf                       int64\n",
       "long                         int64\n",
       "epaisseurdernierstravaux    object\n",
       "anneedernierstravaux         int64\n",
       "naturedernierstravaux       object\n",
       "supportdernierstravaux      object\n",
       "dtype: object"
      ]
     },
     "execution_count": 15,
     "metadata": {},
     "output_type": "execute_result"
    },
    {
     "data": {
      "text/plain": [
       "0           1,5\n",
       "1             1\n",
       "2             1\n",
       "3             2\n",
       "4             1\n",
       "5             6\n",
       "6             4\n",
       "7             1\n",
       "8             5\n",
       "9             3\n",
       "10            1\n",
       "11            4\n",
       "12            5\n",
       "13            3\n",
       "14            6\n",
       "15            2\n",
       "16            2\n",
       "17            8\n",
       "18          1,2\n",
       "19            0\n",
       "20            4\n",
       "21            6\n",
       "22            1\n",
       "23            1\n",
       "24            5\n",
       "25            1\n",
       "26            3\n",
       "27      9999,99\n",
       "28            5\n",
       "29            4\n",
       "         ...   \n",
       "5462        0,6\n",
       "5463        1,5\n",
       "5464          4\n",
       "5465          1\n",
       "5466        0,6\n",
       "5467          1\n",
       "5468          1\n",
       "5469          1\n",
       "5470        1,5\n",
       "5471          1\n",
       "5472        1,2\n",
       "5473        2,5\n",
       "5474          1\n",
       "5475          4\n",
       "5476          1\n",
       "5477        2,5\n",
       "5478          4\n",
       "5479          4\n",
       "5480        1,5\n",
       "5481          1\n",
       "5482        3,5\n",
       "5483          4\n",
       "5484          1\n",
       "5485          1\n",
       "5486          4\n",
       "5487          3\n",
       "5488          1\n",
       "5489        2,5\n",
       "5490          4\n",
       "5491          1\n",
       "Name: epaisseurdernierstravaux, Length: 5492, dtype: object"
      ]
     },
     "execution_count": 15,
     "metadata": {},
     "output_type": "execute_result"
    }
   ],
   "source": [
    "df.dtypes\n",
    "df.epaisseurdernierstravaux"
   ]
  },
  {
   "cell_type": "markdown",
   "metadata": {},
   "source": [
    "#Commas will be a problem, python can't convert values with commas. Let's replace them with a dot."
   ]
  },
  {
   "cell_type": "code",
   "execution_count": 16,
   "metadata": {},
   "outputs": [
    {
     "data": {
      "text/plain": [
       "entityid                     object\n",
       "route                        object\n",
       "rub                           int64\n",
       "age                           int64\n",
       "mois                          int64\n",
       "annee                         int64\n",
       "prd                           int64\n",
       "abd                           int64\n",
       "prf                           int64\n",
       "abf                           int64\n",
       "cumuld                        int64\n",
       "cumulf                        int64\n",
       "long                          int64\n",
       "epaisseurdernierstravaux    float64\n",
       "anneedernierstravaux          int64\n",
       "naturedernierstravaux        object\n",
       "supportdernierstravaux       object\n",
       "dtype: object"
      ]
     },
     "execution_count": 16,
     "metadata": {},
     "output_type": "execute_result"
    }
   ],
   "source": [
    "df.epaisseurdernierstravaux = df.epaisseurdernierstravaux.apply(lambda x : x.replace(',','.'))\n",
    "df.epaisseurdernierstravaux = df.epaisseurdernierstravaux.astype(float)\n",
    "df.dtypes"
   ]
  },
  {
   "cell_type": "markdown",
   "metadata": {},
   "source": [
    "2.Identify and clean aberrants values, please justify."
   ]
  },
  {
   "cell_type": "code",
   "execution_count": 17,
   "metadata": {},
   "outputs": [
    {
     "data": {
      "text/plain": [
       "count    5492.000000\n",
       "mean      106.477810\n",
       "std      1013.277896\n",
       "min         0.000000\n",
       "25%         1.000000\n",
       "50%         2.000000\n",
       "75%         4.000000\n",
       "max      9999.990000\n",
       "Name: epaisseurdernierstravaux, dtype: float64"
      ]
     },
     "execution_count": 17,
     "metadata": {},
     "output_type": "execute_result"
    },
    {
     "data": {
      "text/plain": [
       "0.0"
      ]
     },
     "execution_count": 17,
     "metadata": {},
     "output_type": "execute_result"
    },
    {
     "data": {
      "text/plain": [
       "9999.9899999999998"
      ]
     },
     "execution_count": 17,
     "metadata": {},
     "output_type": "execute_result"
    },
    {
     "data": {
      "image/png": "[encoded data removed]",
      "text/plain": [
       "<matplotlib.figure.Figure at 0x138b67b5278>"
      ]
     },
     "metadata": {},
     "output_type": "display_data"
    }
   ],
   "source": [
    "%matplotlib inline\n",
    "df.epaisseurdernierstravaux.describe()\n",
    "plot = sns.kdeplot(df['epaisseurdernierstravaux'])\n",
    "min(df.epaisseurdernierstravaux)\n",
    "max(df.epaisseurdernierstravaux)"
   ]
  },
  {
   "cell_type": "markdown",
   "metadata": {},
   "source": [
    "9999.99 as max is too high, 0 is useless."
   ]
  },
  {
   "cell_type": "code",
   "execution_count": 18,
   "metadata": {},
   "outputs": [
    {
     "data": {
      "text/plain": [
       "entityid                    189\n",
       "route                       189\n",
       "rub                         189\n",
       "age                         189\n",
       "mois                        189\n",
       "annee                       189\n",
       "prd                         189\n",
       "abd                         189\n",
       "prf                         189\n",
       "abf                         189\n",
       "cumuld                      189\n",
       "cumulf                      189\n",
       "long                        189\n",
       "epaisseurdernierstravaux    189\n",
       "anneedernierstravaux        189\n",
       "naturedernierstravaux       189\n",
       "supportdernierstravaux      189\n",
       "dtype: int64"
      ]
     },
     "execution_count": 18,
     "metadata": {},
     "output_type": "execute_result"
    },
    {
     "data": {
      "text/plain": [
       "entityid                    57\n",
       "route                       57\n",
       "rub                         57\n",
       "age                         57\n",
       "mois                        57\n",
       "annee                       57\n",
       "prd                         57\n",
       "abd                         57\n",
       "prf                         57\n",
       "abf                         57\n",
       "cumuld                      57\n",
       "cumulf                      57\n",
       "long                        57\n",
       "epaisseurdernierstravaux    57\n",
       "anneedernierstravaux        57\n",
       "naturedernierstravaux       57\n",
       "supportdernierstravaux      57\n",
       "dtype: int64"
      ]
     },
     "execution_count": 18,
     "metadata": {},
     "output_type": "execute_result"
    }
   ],
   "source": [
    "df[df.epaisseurdernierstravaux==min(df.epaisseurdernierstravaux)].count()\n",
    "df[df.epaisseurdernierstravaux==max(df.epaisseurdernierstravaux)].count()"
   ]
  },
  {
   "cell_type": "markdown",
   "metadata": {},
   "source": [
    "Thats 246 wrong values. let's delete those as they are absurd values."
   ]
  },
  {
   "cell_type": "code",
   "execution_count": 19,
   "metadata": {},
   "outputs": [
    {
     "data": {
      "text/plain": [
       "0.0"
      ]
     },
     "execution_count": 19,
     "metadata": {},
     "output_type": "execute_result"
    },
    {
     "data": {
      "text/plain": [
       "9999.9899999999998"
      ]
     },
     "execution_count": 19,
     "metadata": {},
     "output_type": "execute_result"
    },
    {
     "data": {
      "text/plain": [
       "<matplotlib.axes._subplots.AxesSubplot at 0x138b648c9e8>"
      ]
     },
     "execution_count": 19,
     "metadata": {},
     "output_type": "execute_result"
    },
    {
     "data": {
      "text/plain": [
       "0.10000000000000001"
      ]
     },
     "execution_count": 19,
     "metadata": {},
     "output_type": "execute_result"
    },
    {
     "data": {
      "text/plain": [
       "30.0"
      ]
     },
     "execution_count": 19,
     "metadata": {},
     "output_type": "execute_result"
    },
    {
     "data": {
      "text/html": [
       "<div>\n",
       "<style>\n",
       "    .dataframe thead tr:only-child th {\n",
       "        text-align: right;\n",
       "    }\n",
       "\n",
       "    .dataframe thead th {\n",
       "        text-align: left;\n",
       "    }\n",
       "\n",
       "    .dataframe tbody tr th {\n",
       "        vertical-align: top;\n",
       "    }\n",
       "</style>\n",
       "<table border=\"1\" class=\"dataframe\">\n",
       "  <thead>\n",
       "    <tr style=\"text-align: right;\">\n",
       "      <th></th>\n",
       "      <th>rub</th>\n",
       "      <th>age</th>\n",
       "      <th>mois</th>\n",
       "      <th>annee</th>\n",
       "      <th>prd</th>\n",
       "      <th>abd</th>\n",
       "      <th>prf</th>\n",
       "      <th>abf</th>\n",
       "      <th>cumuld</th>\n",
       "      <th>cumulf</th>\n",
       "      <th>long</th>\n",
       "      <th>epaisseurdernierstravaux</th>\n",
       "      <th>anneedernierstravaux</th>\n",
       "    </tr>\n",
       "  </thead>\n",
       "  <tbody>\n",
       "    <tr>\n",
       "      <th>count</th>\n",
       "      <td>5246.0</td>\n",
       "      <td>5246.0</td>\n",
       "      <td>5246.000000</td>\n",
       "      <td>5246.000000</td>\n",
       "      <td>5246.000000</td>\n",
       "      <td>5246.000000</td>\n",
       "      <td>5246.000000</td>\n",
       "      <td>5246.000000</td>\n",
       "      <td>5246.000000</td>\n",
       "      <td>5246.000000</td>\n",
       "      <td>5246.000000</td>\n",
       "      <td>5246.000000</td>\n",
       "      <td>5246.000000</td>\n",
       "    </tr>\n",
       "    <tr>\n",
       "      <th>mean</th>\n",
       "      <td>20.0</td>\n",
       "      <td>0.0</td>\n",
       "      <td>7.455395</td>\n",
       "      <td>8.440907</td>\n",
       "      <td>18.012772</td>\n",
       "      <td>472.423561</td>\n",
       "      <td>19.158216</td>\n",
       "      <td>523.053755</td>\n",
       "      <td>17936.242280</td>\n",
       "      <td>19129.482463</td>\n",
       "      <td>1193.240183</td>\n",
       "      <td>2.816756</td>\n",
       "      <td>2003.712543</td>\n",
       "    </tr>\n",
       "    <tr>\n",
       "      <th>std</th>\n",
       "      <td>0.0</td>\n",
       "      <td>0.0</td>\n",
       "      <td>2.266306</td>\n",
       "      <td>2.293073</td>\n",
       "      <td>21.103911</td>\n",
       "      <td>411.296430</td>\n",
       "      <td>21.172993</td>\n",
       "      <td>407.365187</td>\n",
       "      <td>20626.384755</td>\n",
       "      <td>20673.549695</td>\n",
       "      <td>1328.342777</td>\n",
       "      <td>2.019426</td>\n",
       "      <td>6.627276</td>\n",
       "    </tr>\n",
       "    <tr>\n",
       "      <th>min</th>\n",
       "      <td>20.0</td>\n",
       "      <td>0.0</td>\n",
       "      <td>1.000000</td>\n",
       "      <td>1.000000</td>\n",
       "      <td>0.000000</td>\n",
       "      <td>0.000000</td>\n",
       "      <td>0.000000</td>\n",
       "      <td>0.000000</td>\n",
       "      <td>0.000000</td>\n",
       "      <td>1.000000</td>\n",
       "      <td>1.000000</td>\n",
       "      <td>0.100000</td>\n",
       "      <td>1900.000000</td>\n",
       "    </tr>\n",
       "    <tr>\n",
       "      <th>25%</th>\n",
       "      <td>20.0</td>\n",
       "      <td>0.0</td>\n",
       "      <td>7.000000</td>\n",
       "      <td>7.000000</td>\n",
       "      <td>3.000000</td>\n",
       "      <td>160.000000</td>\n",
       "      <td>5.000000</td>\n",
       "      <td>235.000000</td>\n",
       "      <td>3456.000000</td>\n",
       "      <td>4654.500000</td>\n",
       "      <td>260.000000</td>\n",
       "      <td>1.000000</td>\n",
       "      <td>2000.000000</td>\n",
       "    </tr>\n",
       "    <tr>\n",
       "      <th>50%</th>\n",
       "      <td>20.0</td>\n",
       "      <td>0.0</td>\n",
       "      <td>7.000000</td>\n",
       "      <td>7.000000</td>\n",
       "      <td>11.000000</td>\n",
       "      <td>445.000000</td>\n",
       "      <td>12.000000</td>\n",
       "      <td>500.000000</td>\n",
       "      <td>11051.500000</td>\n",
       "      <td>12323.500000</td>\n",
       "      <td>724.000000</td>\n",
       "      <td>2.000000</td>\n",
       "      <td>2004.000000</td>\n",
       "    </tr>\n",
       "    <tr>\n",
       "      <th>75%</th>\n",
       "      <td>20.0</td>\n",
       "      <td>0.0</td>\n",
       "      <td>9.000000</td>\n",
       "      <td>9.000000</td>\n",
       "      <td>25.000000</td>\n",
       "      <td>731.000000</td>\n",
       "      <td>26.000000</td>\n",
       "      <td>760.000000</td>\n",
       "      <td>24579.500000</td>\n",
       "      <td>25973.750000</td>\n",
       "      <td>1673.750000</td>\n",
       "      <td>4.000000</td>\n",
       "      <td>2007.000000</td>\n",
       "    </tr>\n",
       "    <tr>\n",
       "      <th>max</th>\n",
       "      <td>20.0</td>\n",
       "      <td>0.0</td>\n",
       "      <td>12.000000</td>\n",
       "      <td>50.000000</td>\n",
       "      <td>132.000000</td>\n",
       "      <td>8000.000000</td>\n",
       "      <td>134.000000</td>\n",
       "      <td>8000.000000</td>\n",
       "      <td>131215.000000</td>\n",
       "      <td>133893.000000</td>\n",
       "      <td>10992.000000</td>\n",
       "      <td>30.000000</td>\n",
       "      <td>2014.000000</td>\n",
       "    </tr>\n",
       "  </tbody>\n",
       "</table>\n",
       "</div>"
      ],
      "text/plain": [
       "          rub     age         mois        annee          prd          abd  \\\n",
       "count  5246.0  5246.0  5246.000000  5246.000000  5246.000000  5246.000000   \n",
       "mean     20.0     0.0     7.455395     8.440907    18.012772   472.423561   \n",
       "std       0.0     0.0     2.266306     2.293073    21.103911   411.296430   \n",
       "min      20.0     0.0     1.000000     1.000000     0.000000     0.000000   \n",
       "25%      20.0     0.0     7.000000     7.000000     3.000000   160.000000   \n",
       "50%      20.0     0.0     7.000000     7.000000    11.000000   445.000000   \n",
       "75%      20.0     0.0     9.000000     9.000000    25.000000   731.000000   \n",
       "max      20.0     0.0    12.000000    50.000000   132.000000  8000.000000   \n",
       "\n",
       "               prf          abf         cumuld         cumulf          long  \\\n",
       "count  5246.000000  5246.000000    5246.000000    5246.000000   5246.000000   \n",
       "mean     19.158216   523.053755   17936.242280   19129.482463   1193.240183   \n",
       "std      21.172993   407.365187   20626.384755   20673.549695   1328.342777   \n",
       "min       0.000000     0.000000       0.000000       1.000000      1.000000   \n",
       "25%       5.000000   235.000000    3456.000000    4654.500000    260.000000   \n",
       "50%      12.000000   500.000000   11051.500000   12323.500000    724.000000   \n",
       "75%      26.000000   760.000000   24579.500000   25973.750000   1673.750000   \n",
       "max     134.000000  8000.000000  131215.000000  133893.000000  10992.000000   \n",
       "\n",
       "       epaisseurdernierstravaux  anneedernierstravaux  \n",
       "count               5246.000000           5246.000000  \n",
       "mean                   2.816756           2003.712543  \n",
       "std                    2.019426              6.627276  \n",
       "min                    0.100000           1900.000000  \n",
       "25%                    1.000000           2000.000000  \n",
       "50%                    2.000000           2004.000000  \n",
       "75%                    4.000000           2007.000000  \n",
       "max                   30.000000           2014.000000  "
      ]
     },
     "execution_count": 19,
     "metadata": {},
     "output_type": "execute_result"
    },
    {
     "data": {
      "image/png": "[encoded data removed]",
      "text/plain": [
       "<matplotlib.figure.Figure at 0x138b6492240>"
      ]
     },
     "metadata": {},
     "output_type": "display_data"
    }
   ],
   "source": [
    "min(df.epaisseurdernierstravaux)\n",
    "max(df.epaisseurdernierstravaux)\n",
    "maxEpaisseur = df.epaisseurdernierstravaux.max()\n",
    "minEpaisseur = df.epaisseurdernierstravaux.min()\n",
    "#Dropping max and min values in the dataframe\n",
    "df = df.loc[df['epaisseurdernierstravaux']!= maxEpaisseur]\n",
    "df = df.loc[df['epaisseurdernierstravaux']!= minEpaisseur]\n",
    "\n",
    "\n",
    "sns.kdeplot(df['epaisseurdernierstravaux'])\n",
    "min(df.epaisseurdernierstravaux)\n",
    "max(df.epaisseurdernierstravaux)\n",
    "df.describe()"
   ]
  },
  {
   "cell_type": "markdown",
   "metadata": {},
   "source": [
    "That's better now. Now let's clean other columns, age has 0 values, we can drop this column."
   ]
  },
  {
   "cell_type": "code",
   "execution_count": 20,
   "metadata": {
    "collapsed": true
   },
   "outputs": [],
   "source": [
    "df = df.drop(['age'],axis=1)"
   ]
  },
  {
   "cell_type": "markdown",
   "metadata": {},
   "source": [
    "Part 2 : what are the 5 most kind of construction."
   ]
  },
  {
   "cell_type": "code",
   "execution_count": 21,
   "metadata": {},
   "outputs": [
    {
     "data": {
      "text/plain": [
       "entityid                     object\n",
       "route                        object\n",
       "rub                           int64\n",
       "mois                          int64\n",
       "annee                         int64\n",
       "prd                           int64\n",
       "abd                           int64\n",
       "prf                           int64\n",
       "abf                           int64\n",
       "cumuld                        int64\n",
       "cumulf                        int64\n",
       "long                          int64\n",
       "epaisseurdernierstravaux    float64\n",
       "anneedernierstravaux          int64\n",
       "naturedernierstravaux        object\n",
       "supportdernierstravaux       object\n",
       "dtype: object"
      ]
     },
     "execution_count": 21,
     "metadata": {},
     "output_type": "execute_result"
    }
   ],
   "source": [
    "df.dtypes"
   ]
  },
  {
   "cell_type": "markdown",
   "metadata": {},
   "source": [
    "anneedernierstravaux is an object type, let's change it to string value, count and finally "
   ]
  },
  {
   "cell_type": "code",
   "execution_count": 22,
   "metadata": {},
   "outputs": [
    {
     "data": {
      "text/plain": [
       "<matplotlib.axes._subplots.AxesSubplot at 0x138b6944400>"
      ]
     },
     "execution_count": 22,
     "metadata": {},
     "output_type": "execute_result"
    },
    {
     "data": {
      "image/png": "[encoded data removed]",
      "text/plain": [
       "<matplotlib.figure.Figure at 0x138b6a64c88>"
      ]
     },
     "metadata": {},
     "output_type": "display_data"
    }
   ],
   "source": [
    "df['naturedernierstravaux'] = df['naturedernierstravaux'].astype(str)\n",
    "construction_kind_list = df['naturedernierstravaux']\n",
    "most_kinds_construction = pd.DataFrame(Counter(construction_kind_list).most_common(5))\n",
    "# Now let's plot\n",
    "most_kinds_construction.plot.bar(x=0,rot=0,title='The 5 most kind of construction')"
   ]
  },
  {
   "cell_type": "markdown",
   "metadata": {},
   "source": [
    "Here we have the 5 most kind of construction in the dataset.\n",
    "For each year, what's the number of construction made and the mean thickness ? "
   ]
  },
  {
   "cell_type": "code",
   "execution_count": 23,
   "metadata": {},
   "outputs": [
    {
     "data": {
      "text/plain": [
       "<matplotlib.axes._subplots.AxesSubplot at 0x138b6b3af28>"
      ]
     },
     "execution_count": 23,
     "metadata": {},
     "output_type": "execute_result"
    },
    {
     "data": {
      "image/png": "[encoded data removed]",
      "text/plain": [
       "<matplotlib.figure.Figure at 0x138b6b2d5f8>"
      ]
     },
     "metadata": {},
     "output_type": "display_data"
    }
   ],
   "source": [
    "#Number of construction each year : \n",
    "construction_year_list = df['anneedernierstravaux']\n",
    "number_construction_year = pd.DataFrame.from_dict(Counter(construction_year_list),orient='index').reset_index()\n",
    "number_construction_year.plot.barh(x='index',rot=0,title='Construction per year',fontsize=5)"
   ]
  },
  {
   "cell_type": "markdown",
   "metadata": {},
   "source": [
    "Now, what's the mean thickness per year ? "
   ]
  },
  {
   "cell_type": "code",
   "execution_count": 24,
   "metadata": {},
   "outputs": [
    {
     "data": {
      "text/plain": [
       "<matplotlib.axes._subplots.AxesSubplot at 0x138b68c1198>"
      ]
     },
     "execution_count": 24,
     "metadata": {},
     "output_type": "execute_result"
    },
    {
     "data": {
      "image/png": "[encoded data removed]",
      "text/plain": [
       "<matplotlib.figure.Figure at 0x138b6e22400>"
      ]
     },
     "metadata": {},
     "output_type": "display_data"
    }
   ],
   "source": [
    "mean_thickness_year = df.groupby(['anneedernierstravaux'],as_index=False).mean()\n",
    "mean_thickness_year = mean_thickness_year.sort_values(by='epaisseurdernierstravaux',ascending=False)\n",
    "mean_thickness_year = mean_thickness_year[['anneedernierstravaux','epaisseurdernierstravaux']]\n",
    "mean_thickness_year.plot.barh(x='anneedernierstravaux',rot=0,title='Construction per year',fontsize=5)"
   ]
  },
  {
   "cell_type": "markdown",
   "metadata": {},
   "source": [
    "It seems that thickness diminished through time. Maybe quality of the product has increased, that is curious."
   ]
  }
 ],
 "metadata": {
  "kernelspec": {
   "display_name": "Python 3",
   "language": "python",
   "name": "python3"
  },
  "language_info": {
   "codemirror_mode": {
    "name": "ipython",
    "version": 3
   },
   "file_extension": ".py",
   "mimetype": "text/x-python",
   "name": "python",
   "nbconvert_exporter": "python",
   "pygments_lexer": "ipython3",
   "version": "3.6.2"
  }
 },
 "nbformat": 4,
 "nbformat_minor": 2
}
